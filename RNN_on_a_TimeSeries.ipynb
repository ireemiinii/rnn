{
  "cells": [
    {
      "cell_type": "markdown",
      "metadata": {
        "id": "2ImpedW4QUzl"
      },
      "source": [
        "# RNN on a Time Series\n",
        "For these examples we're using data from the Federal Reserve Economic Database (FRED) concerning Sales of Beverages (juice, alcohol, cola, soda...) in millions of dollars from January 1992 to Oct 2021 (358 records).\n",
        "\n",
        "Data source: https://fred.stlouisfed.org/series/S4248SM144NCEN"
      ]
    },
    {
      "cell_type": "markdown",
      "metadata": {
        "id": "FykgK01UQUzo"
      },
      "source": [
        "## Perform standard imports"
      ]
    },
    {
      "cell_type": "code",
      "execution_count": null,
      "metadata": {
        "id": "GggHWgoIQUzp"
      },
      "outputs": [],
      "source": [
        "import torch\n",
        "import torch.nn as nn\n",
        "\n",
        "import numpy as np\n",
        "import pandas as pd\n",
        "import matplotlib.pyplot as plt\n",
        "%matplotlib inline\n",
        "\n",
        "# This relates to plotting datetime values with matplotlib:\n",
        "from pandas.plotting import register_matplotlib_converters\n",
        "register_matplotlib_converters()"
      ]
    },
    {
      "cell_type": "markdown",
      "metadata": {
        "id": "66fd72oOQUzq"
      },
      "source": [
        "## Load the dataset\n",
        "We'll take advantage of pandas' built-in <a href='https://pandas.pydata.org/pandas-docs/stable/timeseries.html'>DatetimeIndex</a> by passing <tt>parse_dates=True</tt>"
      ]
    },
    {
      "cell_type": "code",
      "execution_count": null,
      "metadata": {
        "colab": {
          "base_uri": "https://localhost:8080/"
        },
        "id": "T7n3J9EwQUzq",
        "outputId": "fa64afae-4e87-48b7-fa5b-9d5b9b53eb0f"
      },
      "outputs": [
        {
          "output_type": "execute_result",
          "data": {
            "text/plain": [
              "358"
            ]
          },
          "metadata": {},
          "execution_count": 10
        }
      ],
      "source": [
        "url = \"https://raw.githubusercontent.com/GeoTurkey/GMT_COURSES/main/Alcohol_sales.csv\"\n",
        "\n",
        "df = pd.read_csv(url, index_col=0, parse_dates=True)\n",
        "len(df)"
      ]
    },
    {
      "cell_type": "code",
      "execution_count": null,
      "metadata": {
        "colab": {
          "base_uri": "https://localhost:8080/"
        },
        "id": "tqhlfXPnQUzr",
        "outputId": "6fa0df58-c265-4da3-959c-9bff8cf2acc4"
      },
      "outputs": [
        {
          "output_type": "execute_result",
          "data": {
            "text/plain": [
              "358"
            ]
          },
          "metadata": {},
          "execution_count": 11
        }
      ],
      "source": [
        "# Always a good idea with time series data:\n",
        "df.dropna(inplace=True)\n",
        "len(df)"
      ]
    },
    {
      "cell_type": "code",
      "execution_count": null,
      "metadata": {
        "colab": {
          "base_uri": "https://localhost:8080/",
          "height": 237
        },
        "id": "yfQZGoCfQUzs",
        "outputId": "4ef7ac97-d8a3-41ca-ab23-fcc4eae22f5e"
      },
      "outputs": [
        {
          "output_type": "execute_result",
          "data": {
            "text/html": [
              "\n",
              "  <div id=\"df-4414a1ad-8391-4d67-8e0c-792c8eb00826\">\n",
              "    <div class=\"colab-df-container\">\n",
              "      <div>\n",
              "<style scoped>\n",
              "    .dataframe tbody tr th:only-of-type {\n",
              "        vertical-align: middle;\n",
              "    }\n",
              "\n",
              "    .dataframe tbody tr th {\n",
              "        vertical-align: top;\n",
              "    }\n",
              "\n",
              "    .dataframe thead th {\n",
              "        text-align: right;\n",
              "    }\n",
              "</style>\n",
              "<table border=\"1\" class=\"dataframe\">\n",
              "  <thead>\n",
              "    <tr style=\"text-align: right;\">\n",
              "      <th></th>\n",
              "      <th>S4248SM144NCEN</th>\n",
              "    </tr>\n",
              "    <tr>\n",
              "      <th>DATE</th>\n",
              "      <th></th>\n",
              "    </tr>\n",
              "  </thead>\n",
              "  <tbody>\n",
              "    <tr>\n",
              "      <th>1992-01-01</th>\n",
              "      <td>3459</td>\n",
              "    </tr>\n",
              "    <tr>\n",
              "      <th>1992-02-01</th>\n",
              "      <td>3458</td>\n",
              "    </tr>\n",
              "    <tr>\n",
              "      <th>1992-03-01</th>\n",
              "      <td>4002</td>\n",
              "    </tr>\n",
              "    <tr>\n",
              "      <th>1992-04-01</th>\n",
              "      <td>4564</td>\n",
              "    </tr>\n",
              "    <tr>\n",
              "      <th>1992-05-01</th>\n",
              "      <td>4221</td>\n",
              "    </tr>\n",
              "  </tbody>\n",
              "</table>\n",
              "</div>\n",
              "      <button class=\"colab-df-convert\" onclick=\"convertToInteractive('df-4414a1ad-8391-4d67-8e0c-792c8eb00826')\"\n",
              "              title=\"Convert this dataframe to an interactive table.\"\n",
              "              style=\"display:none;\">\n",
              "        \n",
              "  <svg xmlns=\"http://www.w3.org/2000/svg\" height=\"24px\"viewBox=\"0 0 24 24\"\n",
              "       width=\"24px\">\n",
              "    <path d=\"M0 0h24v24H0V0z\" fill=\"none\"/>\n",
              "    <path d=\"M18.56 5.44l.94 2.06.94-2.06 2.06-.94-2.06-.94-.94-2.06-.94 2.06-2.06.94zm-11 1L8.5 8.5l.94-2.06 2.06-.94-2.06-.94L8.5 2.5l-.94 2.06-2.06.94zm10 10l.94 2.06.94-2.06 2.06-.94-2.06-.94-.94-2.06-.94 2.06-2.06.94z\"/><path d=\"M17.41 7.96l-1.37-1.37c-.4-.4-.92-.59-1.43-.59-.52 0-1.04.2-1.43.59L10.3 9.45l-7.72 7.72c-.78.78-.78 2.05 0 2.83L4 21.41c.39.39.9.59 1.41.59.51 0 1.02-.2 1.41-.59l7.78-7.78 2.81-2.81c.8-.78.8-2.07 0-2.86zM5.41 20L4 18.59l7.72-7.72 1.47 1.35L5.41 20z\"/>\n",
              "  </svg>\n",
              "      </button>\n",
              "      \n",
              "  <style>\n",
              "    .colab-df-container {\n",
              "      display:flex;\n",
              "      flex-wrap:wrap;\n",
              "      gap: 12px;\n",
              "    }\n",
              "\n",
              "    .colab-df-convert {\n",
              "      background-color: #E8F0FE;\n",
              "      border: none;\n",
              "      border-radius: 50%;\n",
              "      cursor: pointer;\n",
              "      display: none;\n",
              "      fill: #1967D2;\n",
              "      height: 32px;\n",
              "      padding: 0 0 0 0;\n",
              "      width: 32px;\n",
              "    }\n",
              "\n",
              "    .colab-df-convert:hover {\n",
              "      background-color: #E2EBFA;\n",
              "      box-shadow: 0px 1px 2px rgba(60, 64, 67, 0.3), 0px 1px 3px 1px rgba(60, 64, 67, 0.15);\n",
              "      fill: #174EA6;\n",
              "    }\n",
              "\n",
              "    [theme=dark] .colab-df-convert {\n",
              "      background-color: #3B4455;\n",
              "      fill: #D2E3FC;\n",
              "    }\n",
              "\n",
              "    [theme=dark] .colab-df-convert:hover {\n",
              "      background-color: #434B5C;\n",
              "      box-shadow: 0px 1px 3px 1px rgba(0, 0, 0, 0.15);\n",
              "      filter: drop-shadow(0px 1px 2px rgba(0, 0, 0, 0.3));\n",
              "      fill: #FFFFFF;\n",
              "    }\n",
              "  </style>\n",
              "\n",
              "      <script>\n",
              "        const buttonEl =\n",
              "          document.querySelector('#df-4414a1ad-8391-4d67-8e0c-792c8eb00826 button.colab-df-convert');\n",
              "        buttonEl.style.display =\n",
              "          google.colab.kernel.accessAllowed ? 'block' : 'none';\n",
              "\n",
              "        async function convertToInteractive(key) {\n",
              "          const element = document.querySelector('#df-4414a1ad-8391-4d67-8e0c-792c8eb00826');\n",
              "          const dataTable =\n",
              "            await google.colab.kernel.invokeFunction('convertToInteractive',\n",
              "                                                     [key], {});\n",
              "          if (!dataTable) return;\n",
              "\n",
              "          const docLinkHtml = 'Like what you see? Visit the ' +\n",
              "            '<a target=\"_blank\" href=https://colab.research.google.com/notebooks/data_table.ipynb>data table notebook</a>'\n",
              "            + ' to learn more about interactive tables.';\n",
              "          element.innerHTML = '';\n",
              "          dataTable['output_type'] = 'display_data';\n",
              "          await google.colab.output.renderOutput(dataTable, element);\n",
              "          const docLink = document.createElement('div');\n",
              "          docLink.innerHTML = docLinkHtml;\n",
              "          element.appendChild(docLink);\n",
              "        }\n",
              "      </script>\n",
              "    </div>\n",
              "  </div>\n",
              "  "
            ],
            "text/plain": [
              "            S4248SM144NCEN\n",
              "DATE                      \n",
              "1992-01-01            3459\n",
              "1992-02-01            3458\n",
              "1992-03-01            4002\n",
              "1992-04-01            4564\n",
              "1992-05-01            4221"
            ]
          },
          "metadata": {},
          "execution_count": 12
        }
      ],
      "source": [
        "df.head()"
      ]
    },
    {
      "cell_type": "code",
      "execution_count": null,
      "metadata": {
        "colab": {
          "base_uri": "https://localhost:8080/",
          "height": 237
        },
        "id": "gGOVjF7ZQUzs",
        "outputId": "3c73bd81-6c37-4bbd-ca01-1470b03165f2"
      },
      "outputs": [
        {
          "output_type": "execute_result",
          "data": {
            "text/html": [
              "\n",
              "  <div id=\"df-646a5f71-25e8-43c3-b497-7344634d80ca\">\n",
              "    <div class=\"colab-df-container\">\n",
              "      <div>\n",
              "<style scoped>\n",
              "    .dataframe tbody tr th:only-of-type {\n",
              "        vertical-align: middle;\n",
              "    }\n",
              "\n",
              "    .dataframe tbody tr th {\n",
              "        vertical-align: top;\n",
              "    }\n",
              "\n",
              "    .dataframe thead th {\n",
              "        text-align: right;\n",
              "    }\n",
              "</style>\n",
              "<table border=\"1\" class=\"dataframe\">\n",
              "  <thead>\n",
              "    <tr style=\"text-align: right;\">\n",
              "      <th></th>\n",
              "      <th>S4248SM144NCEN</th>\n",
              "    </tr>\n",
              "    <tr>\n",
              "      <th>DATE</th>\n",
              "      <th></th>\n",
              "    </tr>\n",
              "  </thead>\n",
              "  <tbody>\n",
              "    <tr>\n",
              "      <th>2021-06-01</th>\n",
              "      <td>17830</td>\n",
              "    </tr>\n",
              "    <tr>\n",
              "      <th>2021-07-01</th>\n",
              "      <td>15742</td>\n",
              "    </tr>\n",
              "    <tr>\n",
              "      <th>2021-08-01</th>\n",
              "      <td>16142</td>\n",
              "    </tr>\n",
              "    <tr>\n",
              "      <th>2021-09-01</th>\n",
              "      <td>15840</td>\n",
              "    </tr>\n",
              "    <tr>\n",
              "      <th>2021-10-01</th>\n",
              "      <td>15616</td>\n",
              "    </tr>\n",
              "  </tbody>\n",
              "</table>\n",
              "</div>\n",
              "      <button class=\"colab-df-convert\" onclick=\"convertToInteractive('df-646a5f71-25e8-43c3-b497-7344634d80ca')\"\n",
              "              title=\"Convert this dataframe to an interactive table.\"\n",
              "              style=\"display:none;\">\n",
              "        \n",
              "  <svg xmlns=\"http://www.w3.org/2000/svg\" height=\"24px\"viewBox=\"0 0 24 24\"\n",
              "       width=\"24px\">\n",
              "    <path d=\"M0 0h24v24H0V0z\" fill=\"none\"/>\n",
              "    <path d=\"M18.56 5.44l.94 2.06.94-2.06 2.06-.94-2.06-.94-.94-2.06-.94 2.06-2.06.94zm-11 1L8.5 8.5l.94-2.06 2.06-.94-2.06-.94L8.5 2.5l-.94 2.06-2.06.94zm10 10l.94 2.06.94-2.06 2.06-.94-2.06-.94-.94-2.06-.94 2.06-2.06.94z\"/><path d=\"M17.41 7.96l-1.37-1.37c-.4-.4-.92-.59-1.43-.59-.52 0-1.04.2-1.43.59L10.3 9.45l-7.72 7.72c-.78.78-.78 2.05 0 2.83L4 21.41c.39.39.9.59 1.41.59.51 0 1.02-.2 1.41-.59l7.78-7.78 2.81-2.81c.8-.78.8-2.07 0-2.86zM5.41 20L4 18.59l7.72-7.72 1.47 1.35L5.41 20z\"/>\n",
              "  </svg>\n",
              "      </button>\n",
              "      \n",
              "  <style>\n",
              "    .colab-df-container {\n",
              "      display:flex;\n",
              "      flex-wrap:wrap;\n",
              "      gap: 12px;\n",
              "    }\n",
              "\n",
              "    .colab-df-convert {\n",
              "      background-color: #E8F0FE;\n",
              "      border: none;\n",
              "      border-radius: 50%;\n",
              "      cursor: pointer;\n",
              "      display: none;\n",
              "      fill: #1967D2;\n",
              "      height: 32px;\n",
              "      padding: 0 0 0 0;\n",
              "      width: 32px;\n",
              "    }\n",
              "\n",
              "    .colab-df-convert:hover {\n",
              "      background-color: #E2EBFA;\n",
              "      box-shadow: 0px 1px 2px rgba(60, 64, 67, 0.3), 0px 1px 3px 1px rgba(60, 64, 67, 0.15);\n",
              "      fill: #174EA6;\n",
              "    }\n",
              "\n",
              "    [theme=dark] .colab-df-convert {\n",
              "      background-color: #3B4455;\n",
              "      fill: #D2E3FC;\n",
              "    }\n",
              "\n",
              "    [theme=dark] .colab-df-convert:hover {\n",
              "      background-color: #434B5C;\n",
              "      box-shadow: 0px 1px 3px 1px rgba(0, 0, 0, 0.15);\n",
              "      filter: drop-shadow(0px 1px 2px rgba(0, 0, 0, 0.3));\n",
              "      fill: #FFFFFF;\n",
              "    }\n",
              "  </style>\n",
              "\n",
              "      <script>\n",
              "        const buttonEl =\n",
              "          document.querySelector('#df-646a5f71-25e8-43c3-b497-7344634d80ca button.colab-df-convert');\n",
              "        buttonEl.style.display =\n",
              "          google.colab.kernel.accessAllowed ? 'block' : 'none';\n",
              "\n",
              "        async function convertToInteractive(key) {\n",
              "          const element = document.querySelector('#df-646a5f71-25e8-43c3-b497-7344634d80ca');\n",
              "          const dataTable =\n",
              "            await google.colab.kernel.invokeFunction('convertToInteractive',\n",
              "                                                     [key], {});\n",
              "          if (!dataTable) return;\n",
              "\n",
              "          const docLinkHtml = 'Like what you see? Visit the ' +\n",
              "            '<a target=\"_blank\" href=https://colab.research.google.com/notebooks/data_table.ipynb>data table notebook</a>'\n",
              "            + ' to learn more about interactive tables.';\n",
              "          element.innerHTML = '';\n",
              "          dataTable['output_type'] = 'display_data';\n",
              "          await google.colab.output.renderOutput(dataTable, element);\n",
              "          const docLink = document.createElement('div');\n",
              "          docLink.innerHTML = docLinkHtml;\n",
              "          element.appendChild(docLink);\n",
              "        }\n",
              "      </script>\n",
              "    </div>\n",
              "  </div>\n",
              "  "
            ],
            "text/plain": [
              "            S4248SM144NCEN\n",
              "DATE                      \n",
              "2021-06-01           17830\n",
              "2021-07-01           15742\n",
              "2021-08-01           16142\n",
              "2021-09-01           15840\n",
              "2021-10-01           15616"
            ]
          },
          "metadata": {},
          "execution_count": 13
        }
      ],
      "source": [
        "df.tail()"
      ]
    },
    {
      "cell_type": "markdown",
      "metadata": {
        "id": "8QhnscVkQUzt"
      },
      "source": [
        "## Plotting time series data\n",
        "We can add titles, axis labels, and other features to the plot.<br>\n",
        "We're going to tighten the x-axis to fit the width of the actual data with <tt>plt.autoscale(axis='x',tight=True)</tt>.<br>\n",
        "Alternatively you could set your own limits with <tt>plt.xlim(pd.Timestamp('1992-01-01'), pd.Timestamp('2021-10-01'))</tt> or some other values."
      ]
    },
    {
      "cell_type": "code",
      "execution_count": null,
      "metadata": {
        "colab": {
          "base_uri": "https://localhost:8080/",
          "height": 281
        },
        "id": "JhT1SCJmQUzu",
        "outputId": "7adf9d14-205d-4a59-f4b6-624d5e303509"
      },
      "outputs": [
        {
          "output_type": "display_data",
          "data": {
            "image/png": "[encoded data removed]",
            "text/plain": [
              "<Figure size 864x288 with 1 Axes>"
            ]
          },
          "metadata": {
            "needs_background": "light"
          }
        }
      ],
      "source": [
        "plt.figure(figsize=(12,4))\n",
        "plt.title('Drink Consumption')\n",
        "plt.ylabel('Sales (millions of dollars)')\n",
        "plt.grid(True)\n",
        "plt.autoscale(axis='x',tight=True)\n",
        "plt.plot(df['S4248SM144NCEN'])\n",
        "plt.show()"
      ]
    },
    {
      "cell_type": "markdown",
      "metadata": {
        "id": "ttd-gCehQUzu"
      },
      "source": [
        "## Prepare the data\n",
        "In the next steps we'll divide the data into train/test sets, then normalize the training values so that they fall between -1 and 1 (to improve training). We'll train the model, then predict into a period that matches the test set. Finally, we'll forecast into an unknown future."
      ]
    },
    {
      "cell_type": "code",
      "execution_count": null,
      "metadata": {
        "id": "HA0sv5GoQUzu"
      },
      "outputs": [],
      "source": [
        "# Extract values from the source .csv file\n",
        "y = df['S4248SM144NCEN'].values.astype(float)\n",
        "\n",
        "# Define a test size\n",
        "test_size = 12 # year\n",
        "\n",
        "# Create train and test sets\n",
        "train_set = y[:-test_size]\n",
        "test_set = y[-test_size:]"
      ]
    },
    {
      "cell_type": "code",
      "execution_count": null,
      "metadata": {
        "colab": {
          "base_uri": "https://localhost:8080/"
        },
        "id": "daNQ1kicQUzv",
        "outputId": "d0544f27-3954-4d5b-860e-53caebe08c88"
      },
      "outputs": [
        {
          "output_type": "execute_result",
          "data": {
            "text/plain": [
              "(346,)"
            ]
          },
          "metadata": {},
          "execution_count": 16
        }
      ],
      "source": [
        "train_set.shape"
      ]
    },
    {
      "cell_type": "code",
      "execution_count": null,
      "metadata": {
        "colab": {
          "base_uri": "https://localhost:8080/"
        },
        "id": "gtwmJcSpQUzv",
        "outputId": "ee0a2a83-f466-4379-809d-2eb77e9d924a"
      },
      "outputs": [
        {
          "output_type": "execute_result",
          "data": {
            "text/plain": [
              "array([15009., 16339., 11371., 12473., 15330., 15622., 15499., 17830.,\n",
              "       15742., 16142., 15840., 15616.])"
            ]
          },
          "metadata": {},
          "execution_count": 17
        }
      ],
      "source": [
        "test_set"
      ]
    },
    {
      "cell_type": "markdown",
      "metadata": {
        "id": "huW1BWc1QUzw"
      },
      "source": [
        "It's worth noting that in our previous exercise the train and test sets were tensors. Here they're numpy arrays. This is because one of the steps we're about to perform outputs an array, and we'd have to turn it into a tensor anyway."
      ]
    },
    {
      "cell_type": "markdown",
      "metadata": {
        "id": "GE555krkQUzw"
      },
      "source": [
        "## Normalize the data\n",
        "The formula for normalizing data around zero is:<br>\n",
        "### $X_{norm} = \\frac{X - \\mu} {\\sigma}$\n",
        "where $\\mu$ is the population mean, and $\\sigma$ is the population standard deviation.<br>\n",
        "Recall that back in the CNN section we transformed image files using <a href='https://pytorch.org/docs/stable/torchvision/transforms.html#torchvision.transforms.Normalize'><tt><strong>torchvision.transforms.Normalize(<em>mean, std</em>)</strong></tt></a>, both because it was built into DataLoader, and because our pretrained models expected specific normalization values.<br>\n",
        "\n",
        "Ultimately we want to perform <a href='https://en.wikipedia.org/wiki/Feature_scaling'>min/max feature scaling</a> so that our values fall between -1 and 1, as this makes hyperparameters converge faster.<br>The formula for this would be:<br>\n",
        "### $X^{\\prime} = a + \\frac{(X - X_{min}) (b - a)} {X_{max} - X_{min}}$\n",
        "where $a={-1}$ and $b=1$<br>\n",
        "\n",
        "We can use scikit-learn to do this, with <a href='https://scikit-learn.org/stable/modules/generated/sklearn.preprocessing.MinMaxScaler.html'><tt><strong>sklearn.preprocessing.MinMaxScaler()</strong></tt></a>\n",
        "\n",
        "NOTE: We only want to normalize the training set to avoid data leakage. If we include the test set then the higher average values of the test set could become part of the signal in the training set. \n",
        "\n",
        "After using transformed data to train the model and generate predictions, we'll inverse_transform the predicted values so that we can compare them to the actual test data."
      ]
    },
    {
      "cell_type": "code",
      "execution_count": null,
      "metadata": {
        "id": "4LY9msSDQUzx"
      },
      "outputs": [],
      "source": [
        "from sklearn.preprocessing import MinMaxScaler\n",
        "\n",
        "# Instantiate a scaler with a feature range from -1 to 1\n",
        "scaler = MinMaxScaler(feature_range=(-1, 1))"
      ]
    },
    {
      "cell_type": "code",
      "execution_count": null,
      "metadata": {
        "id": "FwD0ISzNQUzx"
      },
      "outputs": [],
      "source": [
        "# Normalize the training set\n",
        "train_norm = scaler.fit_transform(train_set.reshape(-1, 1))"
      ]
    },
    {
      "cell_type": "code",
      "execution_count": null,
      "metadata": {
        "colab": {
          "base_uri": "https://localhost:8080/"
        },
        "id": "CRD8q4HdQUzx",
        "outputId": "7f5e708a-45b1-4a7a-dc1e-85c4750081a5"
      },
      "outputs": [
        {
          "output_type": "execute_result",
          "data": {
            "text/plain": [
              "-1.0"
            ]
          },
          "metadata": {},
          "execution_count": 25
        }
      ],
      "source": [
        "train_norm.min()"
      ]
    },
    {
      "cell_type": "code",
      "execution_count": null,
      "metadata": {
        "colab": {
          "base_uri": "https://localhost:8080/"
        },
        "id": "2OQ6HpdkQUzx",
        "outputId": "ebfe89a4-e67b-4528-fd0b-43b6dffcc964"
      },
      "outputs": [
        {
          "output_type": "execute_result",
          "data": {
            "text/plain": [
              "1.0"
            ]
          },
          "metadata": {},
          "execution_count": 26
        }
      ],
      "source": [
        "train_norm.max()"
      ]
    },
    {
      "cell_type": "code",
      "execution_count": null,
      "metadata": {
        "colab": {
          "base_uri": "https://localhost:8080/"
        },
        "id": "fNI-qIMxQUzy",
        "outputId": "34386012-b387-496f-c7e2-8946b0777e3c"
      },
      "outputs": [
        {
          "output_type": "execute_result",
          "data": {
            "text/plain": [
              "-0.2131590248087685"
            ]
          },
          "metadata": {},
          "execution_count": 27
        }
      ],
      "source": [
        "train_norm.mean()"
      ]
    },
    {
      "cell_type": "code",
      "execution_count": null,
      "metadata": {
        "colab": {
          "base_uri": "https://localhost:8080/"
        },
        "id": "wyTG1tS9QUzy",
        "outputId": "a47781d0-8896-4319-eb3f-9326a8f55b49"
      },
      "outputs": [
        {
          "output_type": "execute_result",
          "data": {
            "text/plain": [
              "numpy.ndarray"
            ]
          },
          "metadata": {},
          "execution_count": 28
        }
      ],
      "source": [
        "type(train_norm)"
      ]
    },
    {
      "cell_type": "code",
      "execution_count": null,
      "metadata": {
        "colab": {
          "base_uri": "https://localhost:8080/"
        },
        "id": "ADGKiDdJQUzy",
        "outputId": "3166226c-3e05-4888-9c1a-31a2519fdb78"
      },
      "outputs": [
        {
          "output_type": "execute_result",
          "data": {
            "text/plain": [
              "(346, 1)"
            ]
          },
          "metadata": {},
          "execution_count": 29
        }
      ],
      "source": [
        "train_norm.shape"
      ]
    },
    {
      "cell_type": "code",
      "execution_count": null,
      "metadata": {
        "colab": {
          "base_uri": "https://localhost:8080/"
        },
        "id": "ZY3DHXcLQUzz",
        "outputId": "d545f2a7-0017-4a83-e523-6140f2e629b3"
      },
      "outputs": [
        {
          "output_type": "execute_result",
          "data": {
            "text/plain": [
              "torch.Size([346])"
            ]
          },
          "metadata": {},
          "execution_count": 30
        }
      ],
      "source": [
        "train_norm = torch.FloatTensor(train_norm).view(-1)\n",
        "train_norm.shape"
      ]
    },
    {
      "cell_type": "markdown",
      "metadata": {
        "id": "9MAbXgZ5QUzz"
      },
      "source": [
        "## Prepare data for LSTM\n",
        "Here we'll create our list of (seq/label) tuples from the training set. Recall that an LSTM consumes a window of samples toward the first prediction, so the size of our training set will become ((325 - test_size) - window_size)."
      ]
    },
    {
      "cell_type": "code",
      "execution_count": null,
      "metadata": {
        "id": "N2xS5c2JQUzz"
      },
      "outputs": [],
      "source": [
        "# Convert train_norm from an array to a tensor\n",
        "train_norm = torch.FloatTensor(train_norm).view(-1)"
      ]
    },
    {
      "cell_type": "code",
      "execution_count": null,
      "metadata": {
        "id": "y2GUgaeWQUzz"
      },
      "outputs": [],
      "source": [
        "# Define a window size\n",
        "window_size = 12"
      ]
    },
    {
      "cell_type": "code",
      "execution_count": null,
      "metadata": {
        "id": "zXxzFYwnQUzz"
      },
      "outputs": [],
      "source": [
        "# Define function to create seq/label tuples\n",
        "def input_data(seq,ws):  # ws is the window size\n",
        "    out = []\n",
        "    L = len(seq)\n",
        "    for i in range(L-ws):\n",
        "        window = seq[i:i+ws]\n",
        "        label = seq[i+ws:i+ws+1]\n",
        "        out.append((window,label))\n",
        "    return out\n"
      ]
    },
    {
      "cell_type": "code",
      "execution_count": null,
      "metadata": {
        "colab": {
          "base_uri": "https://localhost:8080/"
        },
        "id": "mIGRHx1dQUz0",
        "outputId": "2fb51541-1e5e-46e7-8007-59cd16191f4d"
      },
      "outputs": [
        {
          "output_type": "execute_result",
          "data": {
            "text/plain": [
              "334"
            ]
          },
          "metadata": {},
          "execution_count": 34
        }
      ],
      "source": [
        "# Apply the input_data function to train_norm\n",
        "train_data = input_data(train_norm, window_size)\n",
        "len(train_data)  # this should equal 358-12-12"
      ]
    },
    {
      "cell_type": "code",
      "execution_count": null,
      "metadata": {
        "id": "qOom4ld6QUz0",
        "outputId": "cd8494de-f606-479b-ee3c-68914ab1d888"
      },
      "outputs": [
        {
          "data": {
            "text/plain": [
              "(tensor([-0.9349, -0.9351, -0.8523, -0.7669, -0.8190, -0.7722, -0.7818, -0.8318,\n",
              "         -0.8335, -0.8132, -0.8161, -0.7103]),\n",
              " tensor([-1.]))"
            ]
          },
          "execution_count": 120,
          "metadata": {},
          "output_type": "execute_result"
        }
      ],
      "source": [
        "# Display the first seq/label tuple in the train data\n",
        "train_data[0]"
      ]
    },
    {
      "cell_type": "markdown",
      "metadata": {
        "id": "gXHWYAPWQUz0"
      },
      "source": [
        "## Define the model\n",
        "This time we'll use an LSTM layer of size (1,100)."
      ]
    },
    {
      "cell_type": "code",
      "execution_count": null,
      "metadata": {
        "id": "R80CfOwaQUz0"
      },
      "outputs": [],
      "source": [
        "class LSTMnetwork(nn.Module):\n",
        "    \n",
        "    def __init__(self,input_size=1,hidden_size=80,output_size=1):\n",
        "        super().__init__()\n",
        "        \n",
        "        \n",
        "        self.hidden_size = hidden_size\n",
        "        \n",
        "        # Add an LSTM layer:\n",
        "        self.lstm = nn.LSTM(input_size,hidden_size)\n",
        "        \n",
        "        # Add a fully-connected layer:\n",
        "        self.linear = nn.Linear(hidden_size,output_size)\n",
        "        \n",
        "        # Initialize h0 and c0:\n",
        "        self.hidden = (torch.zeros(1,1,self.hidden_size),\n",
        "                       torch.zeros(1,1,self.hidden_size))\n",
        "\n",
        "    def forward(self,seq):\n",
        "        lstm_out, self.hidden = self.lstm(\n",
        "            seq.view(len(seq),1,-1), self.hidden)\n",
        "        pred = self.linear(lstm_out.view(len(seq),-1))\n",
        "        return pred[-1]  # we only want the last value"
      ]
    },
    {
      "cell_type": "markdown",
      "metadata": {
        "id": "-p_t-puVQUz0"
      },
      "source": [
        "## Instantiate the model, define loss and optimization functions"
      ]
    },
    {
      "cell_type": "code",
      "execution_count": null,
      "metadata": {
        "colab": {
          "base_uri": "https://localhost:8080/"
        },
        "id": "umsssiXtQUz0",
        "outputId": "6dd2b6f2-a057-4341-cbe3-5604d2dbec59"
      },
      "outputs": [
        {
          "output_type": "execute_result",
          "data": {
            "text/plain": [
              "LSTMnetwork(\n",
              "  (lstm): LSTM(1, 80)\n",
              "  (linear): Linear(in_features=80, out_features=1, bias=True)\n",
              ")"
            ]
          },
          "metadata": {},
          "execution_count": 36
        }
      ],
      "source": [
        "torch.manual_seed(101)\n",
        "model = LSTMnetwork()\n",
        "\n",
        "criterion = nn.MSELoss()\n",
        "optimizer = torch.optim.Adam(model.parameters(), lr=0.001)\n",
        "\n",
        "model"
      ]
    },
    {
      "cell_type": "code",
      "execution_count": null,
      "metadata": {
        "colab": {
          "base_uri": "https://localhost:8080/"
        },
        "id": "hIrK5ODAQUz1",
        "outputId": "88faadf5-8083-4a08-d74c-d5c7bdcc5af0"
      },
      "outputs": [
        {
          "output_type": "stream",
          "name": "stdout",
          "text": [
            "   320\n",
            " 25600\n",
            "   320\n",
            "   320\n",
            "    80\n",
            "     1\n",
            "______\n",
            " 26641\n"
          ]
        }
      ],
      "source": [
        "def count_parameters(model):\n",
        "    params = [p.numel() for p in model.parameters() if p.requires_grad]\n",
        "    for item in params:\n",
        "        print(f'{item:>6}')\n",
        "    print(f'______\\n{sum(params):>6}')\n",
        "    \n",
        "count_parameters(model)"
      ]
    },
    {
      "cell_type": "markdown",
      "metadata": {
        "id": "_-75kgsGQUz1"
      },
      "source": [
        "## Train the model"
      ]
    },
    {
      "cell_type": "code",
      "execution_count": null,
      "metadata": {
        "colab": {
          "base_uri": "https://localhost:8080/"
        },
        "id": "ABWl0JArQUz1",
        "outputId": "496b71b6-31f3-4a8d-d680-9c086f218861"
      },
      "outputs": [
        {
          "output_type": "stream",
          "name": "stdout",
          "text": [
            "Epoch:  1 Loss: 0.13416900\n",
            "Epoch:  2 Loss: 0.13112816\n",
            "Epoch:  3 Loss: 0.07929463\n",
            "Epoch:  4 Loss: 0.05446699\n",
            "Epoch:  5 Loss: 0.05503965\n",
            "Epoch:  6 Loss: 0.04850870\n",
            "Epoch:  7 Loss: 0.04557842\n",
            "Epoch:  8 Loss: 0.04074335\n",
            "Epoch:  9 Loss: 0.03140519\n",
            "Epoch: 10 Loss: 0.03891478\n",
            "Epoch: 11 Loss: 0.03001094\n",
            "Epoch: 12 Loss: 0.01921908\n",
            "Epoch: 13 Loss: 0.02291710\n",
            "Epoch: 14 Loss: 0.01080635\n",
            "Epoch: 15 Loss: 0.00974292\n",
            "Epoch: 16 Loss: 0.01144488\n",
            "Epoch: 17 Loss: 0.01534592\n",
            "Epoch: 18 Loss: 0.03343345\n",
            "Epoch: 19 Loss: 0.08220920\n",
            "Epoch: 20 Loss: 0.08803368\n",
            "Epoch: 21 Loss: 0.02316389\n",
            "Epoch: 22 Loss: 0.02630955\n",
            "Epoch: 23 Loss: 0.00663115\n",
            "Epoch: 24 Loss: 0.07868586\n",
            "Epoch: 25 Loss: 0.04874282\n",
            "Epoch: 26 Loss: 0.05864595\n",
            "Epoch: 27 Loss: 0.03978033\n",
            "Epoch: 28 Loss: 0.04155522\n",
            "Epoch: 29 Loss: 0.11245273\n",
            "Epoch: 30 Loss: 0.04835940\n",
            "Epoch: 31 Loss: 0.06028200\n",
            "Epoch: 32 Loss: 0.09278377\n",
            "Epoch: 33 Loss: 0.09352022\n",
            "Epoch: 34 Loss: 0.10523451\n",
            "Epoch: 35 Loss: 0.08738137\n",
            "Epoch: 36 Loss: 0.07783151\n",
            "Epoch: 37 Loss: 0.07699651\n",
            "Epoch: 38 Loss: 0.04649907\n",
            "Epoch: 39 Loss: 0.05123195\n",
            "Epoch: 40 Loss: 0.03479602\n",
            "Epoch: 41 Loss: 0.02793188\n",
            "Epoch: 42 Loss: 0.02724893\n",
            "Epoch: 43 Loss: 0.01899117\n",
            "Epoch: 44 Loss: 0.02039376\n",
            "Epoch: 45 Loss: 0.01658104\n",
            "Epoch: 46 Loss: 0.01530094\n",
            "Epoch: 47 Loss: 0.01579803\n",
            "Epoch: 48 Loss: 0.01216424\n",
            "Epoch: 49 Loss: 0.01570939\n",
            "Epoch: 50 Loss: 0.01336011\n",
            "Epoch: 51 Loss: 0.01556099\n",
            "Epoch: 52 Loss: 0.01533294\n",
            "Epoch: 53 Loss: 0.04224473\n",
            "Epoch: 54 Loss: 0.00474453\n",
            "Epoch: 55 Loss: 0.07348890\n",
            "Epoch: 56 Loss: 0.00249742\n",
            "Epoch: 57 Loss: 0.01539755\n",
            "Epoch: 58 Loss: 0.00219069\n",
            "Epoch: 59 Loss: 0.00333267\n",
            "Epoch: 60 Loss: 0.02581643\n",
            "Epoch: 61 Loss: 0.08316489\n",
            "Epoch: 62 Loss: 0.02064210\n",
            "Epoch: 63 Loss: 0.00220198\n",
            "Epoch: 64 Loss: 0.00001749\n",
            "Epoch: 65 Loss: 0.00078460\n",
            "Epoch: 66 Loss: 0.02223364\n",
            "Epoch: 67 Loss: 0.00170585\n",
            "Epoch: 68 Loss: 0.00173569\n",
            "Epoch: 69 Loss: 0.03132817\n",
            "Epoch: 70 Loss: 0.00182820\n",
            "Epoch: 71 Loss: 0.00005275\n",
            "Epoch: 72 Loss: 0.00159173\n",
            "Epoch: 73 Loss: 0.00140149\n",
            "Epoch: 74 Loss: 0.00009252\n",
            "Epoch: 75 Loss: 0.00751086\n",
            "Epoch: 76 Loss: 0.00233034\n",
            "Epoch: 77 Loss: 0.00054349\n",
            "Epoch: 78 Loss: 0.00026813\n",
            "Epoch: 79 Loss: 0.00020581\n",
            "Epoch: 80 Loss: 0.00140266\n",
            "\n",
            "Duration: 81 seconds\n"
          ]
        }
      ],
      "source": [
        "epochs = 80\n",
        "\n",
        "import time\n",
        "start_time = time.time()\n",
        "\n",
        "for epoch in range(epochs):\n",
        "    \n",
        "    # extract the sequence & label from the training data\n",
        "    for seq, y_train in train_data:\n",
        "        \n",
        "        # reset the parameters and hidden states\n",
        "        optimizer.zero_grad()\n",
        "        model.hidden = (torch.zeros(1,1,model.hidden_size),\n",
        "                        torch.zeros(1,1,model.hidden_size))\n",
        "        \n",
        "        y_pred = model(seq)\n",
        "        \n",
        "        loss = criterion(y_pred, y_train)\n",
        "        loss.backward()\n",
        "        optimizer.step()\n",
        "        \n",
        "    # print training result\n",
        "    print(f'Epoch: {epoch+1:2} Loss: {loss.item():10.8f}')\n",
        "    \n",
        "print(f'\\nDuration: {time.time() - start_time:.0f} seconds')"
      ]
    },
    {
      "cell_type": "markdown",
      "metadata": {
        "id": "ifriPIWJQUz1"
      },
      "source": [
        "## Run predictions and compare to known test set"
      ]
    },
    {
      "cell_type": "code",
      "execution_count": null,
      "metadata": {
        "id": "dxT8ZnBoQUz1"
      },
      "outputs": [],
      "source": [
        "future = 12\n",
        "\n",
        "# Add the last window of training values to the list of predictions\n",
        "preds = train_norm[-window_size:].tolist()\n",
        "\n",
        "# Set the model to evaluation mode\n",
        "model.eval()\n",
        "\n",
        "for i in range(future):\n",
        "    seq = torch.FloatTensor(preds[-window_size:])\n",
        "    with torch.no_grad():\n",
        "        model.hidden = (torch.zeros(1,1,model.hidden_size),\n",
        "                        torch.zeros(1,1,model.hidden_size))\n",
        "        preds.append(model(seq).item())"
      ]
    },
    {
      "cell_type": "code",
      "execution_count": null,
      "metadata": {
        "colab": {
          "base_uri": "https://localhost:8080/"
        },
        "id": "spYpMglFQUz2",
        "outputId": "aeda864c-adf4-45ae-aa29-b134562c4fcf"
      },
      "outputs": [
        {
          "output_type": "execute_result",
          "data": {
            "text/plain": [
              "[0.9310454726219177,\n",
              " 0.9932261109352112,\n",
              " 0.24262501299381256,\n",
              " 0.5302916765213013,\n",
              " 0.7094590067863464,\n",
              " 0.4352572560310364,\n",
              " 0.8210521936416626,\n",
              " 0.91214519739151,\n",
              " 1.0410364866256714,\n",
              " 1.0541179180145264,\n",
              " 1.119917631149292,\n",
              " 1.1644890308380127]"
            ]
          },
          "metadata": {},
          "execution_count": 40
        }
      ],
      "source": [
        "# Display predicted values\n",
        "preds[window_size:]    # equivalent to preds[-future:]"
      ]
    },
    {
      "cell_type": "markdown",
      "metadata": {
        "id": "y52d6iwuQUz2"
      },
      "source": [
        "## Invert the normalization\n",
        "We want to compare our test predictions to the original data, so we need to undo the previous normalization step. Note that <tt>inverse_transform</tt> uses the most recently applied parameters; we can rescale based on the test data, but not on the previous training data."
      ]
    },
    {
      "cell_type": "code",
      "execution_count": null,
      "metadata": {
        "colab": {
          "base_uri": "https://localhost:8080/"
        },
        "id": "3zHTcqsJQUz2",
        "outputId": "e9ff2d4e-e1ab-4db8-e7e2-80f3d6b444f0"
      },
      "outputs": [
        {
          "output_type": "execute_result",
          "data": {
            "text/plain": [
              "array([[15728.58950523],\n",
              "       [16137.45829245],\n",
              "       [11201.88077294],\n",
              "       [13093.43291897],\n",
              "       [14271.54769912],\n",
              "       [12468.53408703],\n",
              "       [15005.32869929],\n",
              "       [15604.31074545],\n",
              "       [16451.83541781],\n",
              "       [16537.8523699 ],\n",
              "       [16970.51838362],\n",
              "       [17263.59762228]])"
            ]
          },
          "metadata": {},
          "execution_count": 41
        }
      ],
      "source": [
        "true_predictions = scaler.inverse_transform(np.array(preds[window_size:]).reshape(-1, 1))\n",
        "true_predictions"
      ]
    },
    {
      "cell_type": "code",
      "execution_count": null,
      "metadata": {
        "colab": {
          "base_uri": "https://localhost:8080/"
        },
        "id": "YVxQs8GKQUz2",
        "outputId": "034b6981-48b2-4b59-d45d-a60a20c8e7a1"
      },
      "outputs": [
        {
          "output_type": "execute_result",
          "data": {
            "text/plain": [
              "DATE\n",
              "2020-11-01    15009\n",
              "2020-12-01    16339\n",
              "2021-01-01    11371\n",
              "2021-02-01    12473\n",
              "2021-03-01    15330\n",
              "2021-04-01    15622\n",
              "2021-05-01    15499\n",
              "2021-06-01    17830\n",
              "2021-07-01    15742\n",
              "2021-08-01    16142\n",
              "2021-09-01    15840\n",
              "2021-10-01    15616\n",
              "Name: S4248SM144NCEN, dtype: int64"
            ]
          },
          "metadata": {},
          "execution_count": 42
        }
      ],
      "source": [
        "df['S4248SM144NCEN'][-12:]"
      ]
    },
    {
      "cell_type": "markdown",
      "metadata": {
        "id": "2DXqmHK9QUz2"
      },
      "source": [
        "It looks like our predictions weren't that far off!\n",
        "## Plot the results\n",
        "Our original data contains a datetime index, but our predicted values do not. We can create a range of dates using NumPy that are spaced one month apart using <tt>dtype='datetime64[M]'</tt>, and then store them with day values to match our dataset with <tt>.astype('datetime64[D]')</tt>."
      ]
    },
    {
      "cell_type": "code",
      "execution_count": null,
      "metadata": {
        "colab": {
          "base_uri": "https://localhost:8080/"
        },
        "id": "UZ_-Xo7PQUz3",
        "outputId": "c16a2af2-15b9-4fef-f297-1308bb78b917"
      },
      "outputs": [
        {
          "output_type": "execute_result",
          "data": {
            "text/plain": [
              "array(['2020-10-01', '2020-11-01', '2020-12-01', '2021-01-01',\n",
              "       '2021-02-01', '2021-03-01', '2021-04-01', '2021-05-01',\n",
              "       '2021-06-01', '2021-07-01', '2021-08-01', '2021-09-01'],\n",
              "      dtype='datetime64[D]')"
            ]
          },
          "metadata": {},
          "execution_count": 43
        }
      ],
      "source": [
        "# Remember that the stop date has to be later than the last predicted value.\n",
        "x = np.arange('2020-10-01', '2021-10-01', dtype='datetime64[M]').astype('datetime64[D]')\n",
        "x"
      ]
    },
    {
      "cell_type": "code",
      "execution_count": null,
      "metadata": {
        "colab": {
          "base_uri": "https://localhost:8080/",
          "height": 281
        },
        "id": "q0JGwBvPQUz3",
        "outputId": "50cdf2e2-7953-40d4-87ea-9f750c6d28e9"
      },
      "outputs": [
        {
          "output_type": "display_data",
          "data": {
            "image/png": "[encoded data removed]",
            "text/plain": [
              "<Figure size 864x288 with 1 Axes>"
            ]
          },
          "metadata": {
            "needs_background": "light"
          }
        }
      ],
      "source": [
        "plt.figure(figsize=(12,4))\n",
        "plt.title('Beer, Wine, and Alcohol Sales')\n",
        "plt.ylabel('Sales (millions of dollars)')\n",
        "plt.grid(True)\n",
        "plt.autoscale(axis='x',tight=True)\n",
        "plt.plot(df['S4248SM144NCEN'])\n",
        "plt.plot(x,true_predictions)\n",
        "plt.show()"
      ]
    },
    {
      "cell_type": "code",
      "execution_count": null,
      "metadata": {
        "colab": {
          "base_uri": "https://localhost:8080/",
          "height": 279
        },
        "id": "PA-Ts349QUz3",
        "outputId": "53f9903f-5f9b-4f32-f8c4-87c4c8b10a46"
      },
      "outputs": [
        {
          "output_type": "display_data",
          "data": {
            "image/png": "[encoded data removed]",
            "text/plain": [
              "<Figure size 864x288 with 1 Axes>"
            ]
          },
          "metadata": {
            "needs_background": "light"
          }
        }
      ],
      "source": [
        "# Plot the end of the graph\n",
        "fig = plt.figure(figsize=(12,4))\n",
        "plt.title('Beverage Sales')\n",
        "plt.ylabel('Sales (millions of dollars)')\n",
        "plt.grid(True)\n",
        "plt.autoscale(axis='x',tight=True)\n",
        "fig.autofmt_xdate()\n",
        "\n",
        "# Select the end of the graph with slice notation:\n",
        "plt.plot(df['S4248SM144NCEN']['2020-01-01':])\n",
        "plt.plot(x,true_predictions)\n",
        "plt.show()"
      ]
    },
    {
      "cell_type": "markdown",
      "metadata": {
        "id": "cKUNpWW4QUz3"
      },
      "source": [
        "For more information on x-axis date formatting in matplotlib, check out <a href='https://matplotlib.org/api/_as_gen/matplotlib.figure.Figure.html#matplotlib.figure.Figure.autofmt_xdate'><tt><strong>matplotlib.figure.Figure.autofmt_xdate</strong></tt></a> and <a href='https://matplotlib.org/api/dates_api.html#matplotlib.dates.DateFormatter'><tt><strong>matplotlib.dates.DateFormatter</strong></tt></a>"
      ]
    },
    {
      "cell_type": "markdown",
      "metadata": {
        "id": "AVaxPI1-QUz3"
      },
      "source": [
        "# Forecast into an unknown future\n",
        "This time we'll continue training the model using the entire dataset, and predict 12 steps into the future."
      ]
    },
    {
      "cell_type": "code",
      "execution_count": null,
      "metadata": {
        "id": "aW4zmpFQQUz3",
        "outputId": "5af70bf1-c5a7-450a-d159-97127a672bb5"
      },
      "outputs": [
        {
          "name": "stdout",
          "output_type": "stream",
          "text": [
            "Epoch:  1 Loss: 0.05268021\n",
            "Epoch:  2 Loss: 0.01348244\n",
            "Epoch:  3 Loss: 0.00985027\n",
            "Epoch:  4 Loss: 0.00844938\n",
            "Epoch:  5 Loss: 0.01315279\n",
            "Epoch:  6 Loss: 0.00836154\n",
            "Epoch:  7 Loss: 0.01467874\n",
            "Epoch:  8 Loss: 0.00350563\n",
            "Epoch:  9 Loss: 0.00913519\n",
            "Epoch: 10 Loss: 0.00049872\n",
            "Epoch: 11 Loss: 0.00000000\n",
            "Epoch: 12 Loss: 0.00025482\n",
            "Epoch: 13 Loss: 0.00018023\n",
            "Epoch: 14 Loss: 0.00634289\n",
            "Epoch: 15 Loss: 0.00133026\n",
            "Epoch: 16 Loss: 0.00077691\n",
            "Epoch: 17 Loss: 0.00000133\n",
            "Epoch: 18 Loss: 0.00230291\n",
            "Epoch: 19 Loss: 0.00073300\n",
            "Epoch: 20 Loss: 0.00385271\n",
            "Epoch: 21 Loss: 0.00007417\n",
            "Epoch: 22 Loss: 0.00054881\n",
            "Epoch: 23 Loss: 0.02342569\n",
            "Epoch: 24 Loss: 0.00683603\n",
            "Epoch: 25 Loss: 0.00158435\n",
            "Epoch: 26 Loss: 0.00109782\n",
            "Epoch: 27 Loss: 0.00014277\n",
            "Epoch: 28 Loss: 0.00364738\n",
            "Epoch: 29 Loss: 0.00085889\n",
            "Epoch: 30 Loss: 0.00472613\n",
            "Epoch: 31 Loss: 0.00003259\n",
            "Epoch: 32 Loss: 0.00000218\n",
            "Epoch: 33 Loss: 0.00771764\n",
            "Epoch: 34 Loss: 0.00007060\n",
            "Epoch: 35 Loss: 0.00029763\n",
            "Epoch: 36 Loss: 0.00117898\n",
            "Epoch: 37 Loss: 0.00518594\n",
            "Epoch: 38 Loss: 0.00113136\n",
            "Epoch: 39 Loss: 0.00386164\n",
            "Epoch: 40 Loss: 0.00464700\n",
            "Epoch: 41 Loss: 0.00326776\n",
            "Epoch: 42 Loss: 0.00326752\n",
            "Epoch: 43 Loss: 0.00010190\n",
            "Epoch: 44 Loss: 0.00281465\n",
            "Epoch: 45 Loss: 0.00004120\n",
            "Epoch: 46 Loss: 0.00057004\n",
            "Epoch: 47 Loss: 0.00017032\n",
            "Epoch: 48 Loss: 0.00002107\n",
            "Epoch: 49 Loss: 0.00008396\n",
            "Epoch: 50 Loss: 0.00166512\n",
            "Epoch: 51 Loss: 0.00080949\n",
            "Epoch: 52 Loss: 0.00000000\n",
            "Epoch: 53 Loss: 0.00000021\n",
            "Epoch: 54 Loss: 0.00074175\n",
            "Epoch: 55 Loss: 0.00051030\n",
            "Epoch: 56 Loss: 0.00182042\n",
            "Epoch: 57 Loss: 0.00943689\n",
            "Epoch: 58 Loss: 0.00553059\n",
            "Epoch: 59 Loss: 0.00312486\n",
            "Epoch: 60 Loss: 0.00356834\n",
            "Epoch: 61 Loss: 0.00227156\n",
            "Epoch: 62 Loss: 0.00017067\n",
            "Epoch: 63 Loss: 0.00020586\n",
            "Epoch: 64 Loss: 0.00114772\n",
            "Epoch: 65 Loss: 0.00096095\n",
            "Epoch: 66 Loss: 0.00013810\n",
            "Epoch: 67 Loss: 0.00005430\n",
            "Epoch: 68 Loss: 0.00054772\n",
            "Epoch: 69 Loss: 0.00071152\n",
            "Epoch: 70 Loss: 0.00397452\n",
            "Epoch: 71 Loss: 0.00796881\n",
            "Epoch: 72 Loss: 0.00186015\n",
            "Epoch: 73 Loss: 0.00167492\n",
            "Epoch: 74 Loss: 0.00002798\n",
            "Epoch: 75 Loss: 0.00204300\n",
            "Epoch: 76 Loss: 0.00044790\n",
            "Epoch: 77 Loss: 0.00069640\n",
            "Epoch: 78 Loss: 0.00027138\n",
            "Epoch: 79 Loss: 0.00012859\n",
            "Epoch: 80 Loss: 0.00092797\n",
            "Epoch: 81 Loss: 0.00009368\n",
            "Epoch: 82 Loss: 0.00041030\n",
            "Epoch: 83 Loss: 0.00036088\n",
            "Epoch: 84 Loss: 0.01115820\n",
            "Epoch: 85 Loss: 0.00009148\n",
            "Epoch: 86 Loss: 0.00060147\n",
            "Epoch: 87 Loss: 0.00075917\n",
            "Epoch: 88 Loss: 0.00016728\n",
            "Epoch: 89 Loss: 0.00012415\n",
            "Epoch: 90 Loss: 0.00151747\n",
            "Epoch: 91 Loss: 0.00001550\n",
            "Epoch: 92 Loss: 0.00012286\n",
            "Epoch: 93 Loss: 0.00062945\n",
            "Epoch: 94 Loss: 0.00130665\n",
            "Epoch: 95 Loss: 0.00000420\n",
            "Epoch: 96 Loss: 0.00243056\n",
            "Epoch: 97 Loss: 0.01035975\n",
            "Epoch: 98 Loss: 0.00029333\n",
            "Epoch: 99 Loss: 0.00232230\n",
            "Epoch: 100 Loss: 0.00209455\n",
            "\n",
            "Duration: 69 seconds\n"
          ]
        }
      ],
      "source": [
        "epochs = 100\n",
        "\n",
        "# set model to back to training mode\n",
        "model.train()\n",
        "\n",
        "# feature scale the entire dataset\n",
        "y_norm = scaler.fit_transform(y.reshape(-1, 1))\n",
        "y_norm = torch.FloatTensor(y_norm).view(-1)\n",
        "all_data = input_data(y_norm,window_size)\n",
        "\n",
        "import time\n",
        "start_time = time.time()\n",
        "\n",
        "for epoch in range(epochs):\n",
        "    \n",
        "    # train on the full set of sequences\n",
        "    for seq, y_train in all_data:  \n",
        "        \n",
        "        # reset the parameters and hidden states\n",
        "        optimizer.zero_grad()\n",
        "        model.hidden = (torch.zeros(1,1,model.hidden_size),\n",
        "                        torch.zeros(1,1,model.hidden_size))\n",
        "        \n",
        "        y_pred = model(seq)\n",
        "        \n",
        "        loss = criterion(y_pred, y_train)\n",
        "        loss.backward()\n",
        "        optimizer.step()\n",
        "        \n",
        "    # print training result\n",
        "    print(f'Epoch: {epoch+1:2} Loss: {loss.item():10.8f}')\n",
        "    \n",
        "print(f'\\nDuration: {time.time() - start_time:.0f} seconds')"
      ]
    },
    {
      "cell_type": "markdown",
      "metadata": {
        "id": "BrnXIPZGQUz4"
      },
      "source": [
        "## Predict future values, plot the result"
      ]
    },
    {
      "cell_type": "code",
      "execution_count": null,
      "metadata": {
        "id": "X9B-7vhzQUz4",
        "outputId": "ea316d02-ab43-498d-e8af-b27474eba3b8"
      },
      "outputs": [
        {
          "data": {
            "image/png": "[encoded data removed]",
            "text/plain": [
              "<Figure size 864x288 with 1 Axes>"
            ]
          },
          "metadata": {
            "needs_background": "light"
          },
          "output_type": "display_data"
        }
      ],
      "source": [
        "window_size = 12\n",
        "future = 12\n",
        "L = len(y)\n",
        "\n",
        "preds = y_norm[-window_size:].tolist()\n",
        "\n",
        "model.eval()\n",
        "for i in range(future):  \n",
        "    seq = torch.FloatTensor(preds[-window_size:])\n",
        "    with torch.no_grad():\n",
        "        # Reset the hidden parameters here!\n",
        "        model.hidden = (torch.zeros(1,1,model.hidden_size),\n",
        "                        torch.zeros(1,1,model.hidden_size))  \n",
        "        preds.append(model(seq).item())\n",
        "\n",
        "# Inverse-normalize the prediction set\n",
        "true_predictions = scaler.inverse_transform(np.array(preds).reshape(-1, 1))\n",
        "\n",
        "# PLOT THE RESULT\n",
        "# Set a data range for the predicted data.\n",
        "# Remember that the stop date has to be later than the last predicted value.\n",
        "x = np.arange('2021-10-01', '2022-10-01', dtype='datetime64[M]').astype('datetime64[D]')\n",
        "\n",
        "plt.figure(figsize=(12,4))\n",
        "plt.title('Beer, Wine, and Alcohol Sales')\n",
        "plt.ylabel('Sales (millions of dollars)')\n",
        "plt.grid(True)\n",
        "plt.autoscale(axis='x',tight=True)\n",
        "plt.plot(df['S4248SM144NCEN'])\n",
        "plt.plot(x,true_predictions[window_size:])\n",
        "plt.show()"
      ]
    },
    {
      "cell_type": "code",
      "execution_count": null,
      "metadata": {
        "id": "-Y66DM-kQUz4",
        "outputId": "9ad12aa5-cc78-4740-96b4-4ae56f1aab7f"
      },
      "outputs": [
        {
          "data": {
            "image/png": "[encoded data removed]",
            "text/plain": [
              "<Figure size 864x288 with 1 Axes>"
            ]
          },
          "metadata": {
            "needs_background": "light"
          },
          "output_type": "display_data"
        }
      ],
      "source": [
        "fig = plt.figure(figsize=(12,4))\n",
        "plt.title('Beer, Wine, and Alcohol Sales')\n",
        "plt.ylabel('Sales (millions of dollars)')\n",
        "plt.grid(True)\n",
        "plt.autoscale(axis='x',tight=True)\n",
        "fig.autofmt_xdate()\n",
        "plt.plot(df['S4248SM144NCEN']['2021-05-01':])\n",
        "plt.plot(x,true_predictions[window_size:])\n",
        "plt.show()"
      ]
    },
    {
      "cell_type": "markdown",
      "metadata": {
        "id": "jWApq84RQUz5"
      },
      "source": [
        "<h3>BONUS:</h3>To save time in the future, we've written a function that will take in a time series training data set, and output a tensor of <tt>(seq, label)</tt> tuples."
      ]
    },
    {
      "cell_type": "code",
      "execution_count": null,
      "metadata": {
        "collapsed": true,
        "id": "KxZAs3wEQUz5"
      },
      "outputs": [],
      "source": [
        "# Load dependencies\n",
        "from sklearn.preprocessing import MinMaxScaler\n",
        "\n",
        "# Instantiate a scaler\n",
        "\"\"\"\n",
        "This has to be done outside the function definition so that\n",
        "we can inverse_transform the prediction set later on.\n",
        "\"\"\"\n",
        "scaler = MinMaxScaler(feature_range=(-1, 1))\n",
        "\n",
        "# Extract values from the source .csv file\n",
        "df = pd.read_csv('../Data/TimeSeriesData/Alcohol_Sales.csv',index_col=0,parse_dates=True)\n",
        "y = df['S4248SM144NCEN'].values.astype(float)\n",
        "\n",
        "# Define a test size\n",
        "test_size = 12\n",
        "\n",
        "# Create the training set of values\n",
        "train_set = y[:-test_size]"
      ]
    },
    {
      "cell_type": "code",
      "execution_count": null,
      "metadata": {
        "collapsed": true,
        "id": "9qMBQDh6QUz5"
      },
      "outputs": [],
      "source": [
        "# DEFINE A FUNCTION:\n",
        "def create_train_data(seq,ws=12):\n",
        "    \"\"\"Takes in a training sequence and window size (ws) of\n",
        "       default size 12, returns a tensor of (seq/label) tuples\"\"\"\n",
        "    seq_norm = scaler.fit_transform(seq.reshape(-1, 1))    \n",
        "    seq_norm = torch.FloatTensor(seq_norm).view(-1)\n",
        "\n",
        "    out = []\n",
        "    L = len(seq_norm)\n",
        "    for i in range(L-ws):\n",
        "        window = seq_norm[i:i+ws]\n",
        "        label = seq_norm[i+ws:i+ws+1]\n",
        "        out.append((window,label))\n",
        "    return out"
      ]
    },
    {
      "cell_type": "code",
      "execution_count": null,
      "metadata": {
        "id": "3vKZGZV9QUz5",
        "outputId": "a706b093-51b4-48b3-8ac7-5d72515fc11d"
      },
      "outputs": [
        {
          "data": {
            "text/plain": [
              "301"
            ]
          },
          "execution_count": 33,
          "metadata": {},
          "output_type": "execute_result"
        }
      ],
      "source": [
        "# Apply the function to train_set\n",
        "train_data = create_train_data(train_set,12)\n",
        "len(train_data)  # this should equal 313-12"
      ]
    },
    {
      "cell_type": "code",
      "execution_count": null,
      "metadata": {
        "id": "S3ZOMPhRQUz5",
        "outputId": "e081f85a-eaaa-41a8-e248-184a2f2d4ebf"
      },
      "outputs": [
        {
          "data": {
            "text/plain": [
              "(tensor([-0.9268, -0.9270, -0.8340, -0.7379, -0.7966, -0.7439, -0.7547, -0.8109,\n",
              "         -0.8128, -0.7901, -0.7933, -0.6743]), tensor([-1.]))"
            ]
          },
          "execution_count": 34,
          "metadata": {},
          "output_type": "execute_result"
        }
      ],
      "source": [
        "train_data[0]"
      ]
    },
    {
      "cell_type": "code",
      "execution_count": null,
      "metadata": {
        "id": "a3bfNtTwQUz6",
        "outputId": "0a9cff5c-8f85-4d9a-ad86-d89c00c0e74d"
      },
      "outputs": [
        {
          "name": "stdout",
          "output_type": "stream",
          "text": [
            "Help on function create_train_data in module __main__:\n",
            "\n",
            "create_train_data(seq, ws=12)\n",
            "    Takes in a training sequence and window size (ws) of\n",
            "    default size 12, returns a tensor of (seq/label) tuples\n",
            "\n"
          ]
        }
      ],
      "source": [
        "help(create_train_data)"
      ]
    }
  ],
  "metadata": {
    "kernelspec": {
      "display_name": "Python 3",
      "language": "python",
      "name": "python3"
    },
    "language_info": {
      "codemirror_mode": {
        "name": "ipython",
        "version": 3
      },
      "file_extension": ".py",
      "mimetype": "text/x-python",
      "name": "python",
      "nbconvert_exporter": "python",
      "pygments_lexer": "ipython3",
      "version": "3.8.8"
    },
    "colab": {
      "name": "RNN-on-a-TimeSeries.ipynb",
      "provenance": []
    }
  },
  "nbformat": 4,
  "nbformat_minor": 0
}